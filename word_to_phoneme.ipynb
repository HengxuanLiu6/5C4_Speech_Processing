{
  "nbformat": 4,
  "nbformat_minor": 0,
  "metadata": {
    "colab": {
      "provenance": [],
      "authorship_tag": "ABX9TyPoELcyKgoLYwloHdryQSjP",
      "include_colab_link": true
    },
    "kernelspec": {
      "name": "python3",
      "display_name": "Python 3"
    },
    "language_info": {
      "name": "python"
    },
    "widgets": {
      "application/vnd.jupyter.widget-state+json": {
        "a7ca36ff58284ed59321aee4a715da4f": {
          "model_module": "@jupyter-widgets/controls",
          "model_name": "HBoxModel",
          "model_module_version": "1.5.0",
          "state": {
            "_dom_classes": [],
            "_model_module": "@jupyter-widgets/controls",
            "_model_module_version": "1.5.0",
            "_model_name": "HBoxModel",
            "_view_count": null,
            "_view_module": "@jupyter-widgets/controls",
            "_view_module_version": "1.5.0",
            "_view_name": "HBoxView",
            "box_style": "",
            "children": [
              "IPY_MODEL_28dbf5e4672343ddbda4498bfdbe87ae",
              "IPY_MODEL_6bc90511c1b94eff82bfe392e104ccaf",
              "IPY_MODEL_8e304555548e47f8a2477cb224c9289e"
            ],
            "layout": "IPY_MODEL_12e2eccedf9e49efa270f8464b9e579f"
          }
        },
        "28dbf5e4672343ddbda4498bfdbe87ae": {
          "model_module": "@jupyter-widgets/controls",
          "model_name": "HTMLModel",
          "model_module_version": "1.5.0",
          "state": {
            "_dom_classes": [],
            "_model_module": "@jupyter-widgets/controls",
            "_model_module_version": "1.5.0",
            "_model_name": "HTMLModel",
            "_view_count": null,
            "_view_module": "@jupyter-widgets/controls",
            "_view_module_version": "1.5.0",
            "_view_name": "HTMLView",
            "description": "",
            "description_tooltip": null,
            "layout": "IPY_MODEL_18ca6b122bbc4dc19b6e33a81d04043d",
            "placeholder": "​",
            "style": "IPY_MODEL_a1b5f0f36026461eb27ba765aef28d86",
            "value": "README.md: 100%"
          }
        },
        "6bc90511c1b94eff82bfe392e104ccaf": {
          "model_module": "@jupyter-widgets/controls",
          "model_name": "FloatProgressModel",
          "model_module_version": "1.5.0",
          "state": {
            "_dom_classes": [],
            "_model_module": "@jupyter-widgets/controls",
            "_model_module_version": "1.5.0",
            "_model_name": "FloatProgressModel",
            "_view_count": null,
            "_view_module": "@jupyter-widgets/controls",
            "_view_module_version": "1.5.0",
            "_view_name": "ProgressView",
            "bar_style": "success",
            "description": "",
            "description_tooltip": null,
            "layout": "IPY_MODEL_e00eec248ba142909d0e119798880825",
            "max": 431,
            "min": 0,
            "orientation": "horizontal",
            "style": "IPY_MODEL_74bfedbf49a94d54aecbe035bb41157a",
            "value": 431
          }
        },
        "8e304555548e47f8a2477cb224c9289e": {
          "model_module": "@jupyter-widgets/controls",
          "model_name": "HTMLModel",
          "model_module_version": "1.5.0",
          "state": {
            "_dom_classes": [],
            "_model_module": "@jupyter-widgets/controls",
            "_model_module_version": "1.5.0",
            "_model_name": "HTMLModel",
            "_view_count": null,
            "_view_module": "@jupyter-widgets/controls",
            "_view_module_version": "1.5.0",
            "_view_name": "HTMLView",
            "description": "",
            "description_tooltip": null,
            "layout": "IPY_MODEL_44e21b2756d14fc6b27396ea592cbabb",
            "placeholder": "​",
            "style": "IPY_MODEL_8160476388db4a82b137f177e9397f01",
            "value": " 431/431 [00:00&lt;00:00, 19.1kB/s]"
          }
        },
        "12e2eccedf9e49efa270f8464b9e579f": {
          "model_module": "@jupyter-widgets/base",
          "model_name": "LayoutModel",
          "model_module_version": "1.2.0",
          "state": {
            "_model_module": "@jupyter-widgets/base",
            "_model_module_version": "1.2.0",
            "_model_name": "LayoutModel",
            "_view_count": null,
            "_view_module": "@jupyter-widgets/base",
            "_view_module_version": "1.2.0",
            "_view_name": "LayoutView",
            "align_content": null,
            "align_items": null,
            "align_self": null,
            "border": null,
            "bottom": null,
            "display": null,
            "flex": null,
            "flex_flow": null,
            "grid_area": null,
            "grid_auto_columns": null,
            "grid_auto_flow": null,
            "grid_auto_rows": null,
            "grid_column": null,
            "grid_gap": null,
            "grid_row": null,
            "grid_template_areas": null,
            "grid_template_columns": null,
            "grid_template_rows": null,
            "height": null,
            "justify_content": null,
            "justify_items": null,
            "left": null,
            "margin": null,
            "max_height": null,
            "max_width": null,
            "min_height": null,
            "min_width": null,
            "object_fit": null,
            "object_position": null,
            "order": null,
            "overflow": null,
            "overflow_x": null,
            "overflow_y": null,
            "padding": null,
            "right": null,
            "top": null,
            "visibility": null,
            "width": null
          }
        },
        "18ca6b122bbc4dc19b6e33a81d04043d": {
          "model_module": "@jupyter-widgets/base",
          "model_name": "LayoutModel",
          "model_module_version": "1.2.0",
          "state": {
            "_model_module": "@jupyter-widgets/base",
            "_model_module_version": "1.2.0",
            "_model_name": "LayoutModel",
            "_view_count": null,
            "_view_module": "@jupyter-widgets/base",
            "_view_module_version": "1.2.0",
            "_view_name": "LayoutView",
            "align_content": null,
            "align_items": null,
            "align_self": null,
            "border": null,
            "bottom": null,
            "display": null,
            "flex": null,
            "flex_flow": null,
            "grid_area": null,
            "grid_auto_columns": null,
            "grid_auto_flow": null,
            "grid_auto_rows": null,
            "grid_column": null,
            "grid_gap": null,
            "grid_row": null,
            "grid_template_areas": null,
            "grid_template_columns": null,
            "grid_template_rows": null,
            "height": null,
            "justify_content": null,
            "justify_items": null,
            "left": null,
            "margin": null,
            "max_height": null,
            "max_width": null,
            "min_height": null,
            "min_width": null,
            "object_fit": null,
            "object_position": null,
            "order": null,
            "overflow": null,
            "overflow_x": null,
            "overflow_y": null,
            "padding": null,
            "right": null,
            "top": null,
            "visibility": null,
            "width": null
          }
        },
        "a1b5f0f36026461eb27ba765aef28d86": {
          "model_module": "@jupyter-widgets/controls",
          "model_name": "DescriptionStyleModel",
          "model_module_version": "1.5.0",
          "state": {
            "_model_module": "@jupyter-widgets/controls",
            "_model_module_version": "1.5.0",
            "_model_name": "DescriptionStyleModel",
            "_view_count": null,
            "_view_module": "@jupyter-widgets/base",
            "_view_module_version": "1.2.0",
            "_view_name": "StyleView",
            "description_width": ""
          }
        },
        "e00eec248ba142909d0e119798880825": {
          "model_module": "@jupyter-widgets/base",
          "model_name": "LayoutModel",
          "model_module_version": "1.2.0",
          "state": {
            "_model_module": "@jupyter-widgets/base",
            "_model_module_version": "1.2.0",
            "_model_name": "LayoutModel",
            "_view_count": null,
            "_view_module": "@jupyter-widgets/base",
            "_view_module_version": "1.2.0",
            "_view_name": "LayoutView",
            "align_content": null,
            "align_items": null,
            "align_self": null,
            "border": null,
            "bottom": null,
            "display": null,
            "flex": null,
            "flex_flow": null,
            "grid_area": null,
            "grid_auto_columns": null,
            "grid_auto_flow": null,
            "grid_auto_rows": null,
            "grid_column": null,
            "grid_gap": null,
            "grid_row": null,
            "grid_template_areas": null,
            "grid_template_columns": null,
            "grid_template_rows": null,
            "height": null,
            "justify_content": null,
            "justify_items": null,
            "left": null,
            "margin": null,
            "max_height": null,
            "max_width": null,
            "min_height": null,
            "min_width": null,
            "object_fit": null,
            "object_position": null,
            "order": null,
            "overflow": null,
            "overflow_x": null,
            "overflow_y": null,
            "padding": null,
            "right": null,
            "top": null,
            "visibility": null,
            "width": null
          }
        },
        "74bfedbf49a94d54aecbe035bb41157a": {
          "model_module": "@jupyter-widgets/controls",
          "model_name": "ProgressStyleModel",
          "model_module_version": "1.5.0",
          "state": {
            "_model_module": "@jupyter-widgets/controls",
            "_model_module_version": "1.5.0",
            "_model_name": "ProgressStyleModel",
            "_view_count": null,
            "_view_module": "@jupyter-widgets/base",
            "_view_module_version": "1.2.0",
            "_view_name": "StyleView",
            "bar_color": null,
            "description_width": ""
          }
        },
        "44e21b2756d14fc6b27396ea592cbabb": {
          "model_module": "@jupyter-widgets/base",
          "model_name": "LayoutModel",
          "model_module_version": "1.2.0",
          "state": {
            "_model_module": "@jupyter-widgets/base",
            "_model_module_version": "1.2.0",
            "_model_name": "LayoutModel",
            "_view_count": null,
            "_view_module": "@jupyter-widgets/base",
            "_view_module_version": "1.2.0",
            "_view_name": "LayoutView",
            "align_content": null,
            "align_items": null,
            "align_self": null,
            "border": null,
            "bottom": null,
            "display": null,
            "flex": null,
            "flex_flow": null,
            "grid_area": null,
            "grid_auto_columns": null,
            "grid_auto_flow": null,
            "grid_auto_rows": null,
            "grid_column": null,
            "grid_gap": null,
            "grid_row": null,
            "grid_template_areas": null,
            "grid_template_columns": null,
            "grid_template_rows": null,
            "height": null,
            "justify_content": null,
            "justify_items": null,
            "left": null,
            "margin": null,
            "max_height": null,
            "max_width": null,
            "min_height": null,
            "min_width": null,
            "object_fit": null,
            "object_position": null,
            "order": null,
            "overflow": null,
            "overflow_x": null,
            "overflow_y": null,
            "padding": null,
            "right": null,
            "top": null,
            "visibility": null,
            "width": null
          }
        },
        "8160476388db4a82b137f177e9397f01": {
          "model_module": "@jupyter-widgets/controls",
          "model_name": "DescriptionStyleModel",
          "model_module_version": "1.5.0",
          "state": {
            "_model_module": "@jupyter-widgets/controls",
            "_model_module_version": "1.5.0",
            "_model_name": "DescriptionStyleModel",
            "_view_count": null,
            "_view_module": "@jupyter-widgets/base",
            "_view_module_version": "1.2.0",
            "_view_name": "StyleView",
            "description_width": ""
          }
        },
        "3ab72de540d34cc5b1981eb83df13e78": {
          "model_module": "@jupyter-widgets/controls",
          "model_name": "HBoxModel",
          "model_module_version": "1.5.0",
          "state": {
            "_dom_classes": [],
            "_model_module": "@jupyter-widgets/controls",
            "_model_module_version": "1.5.0",
            "_model_name": "HBoxModel",
            "_view_count": null,
            "_view_module": "@jupyter-widgets/controls",
            "_view_module_version": "1.5.0",
            "_view_name": "HBoxView",
            "box_style": "",
            "children": [
              "IPY_MODEL_94cecb36fb36428382e981c406ebf71c",
              "IPY_MODEL_bd5729f6e1b6442380cd4991a87a2cc2",
              "IPY_MODEL_f98b172bf16f434f982a95d9632afdf4"
            ],
            "layout": "IPY_MODEL_f2f48af27ebb46a5b085242661e0f817"
          }
        },
        "94cecb36fb36428382e981c406ebf71c": {
          "model_module": "@jupyter-widgets/controls",
          "model_name": "HTMLModel",
          "model_module_version": "1.5.0",
          "state": {
            "_dom_classes": [],
            "_model_module": "@jupyter-widgets/controls",
            "_model_module_version": "1.5.0",
            "_model_name": "HTMLModel",
            "_view_count": null,
            "_view_module": "@jupyter-widgets/controls",
            "_view_module_version": "1.5.0",
            "_view_name": "HTMLView",
            "description": "",
            "description_tooltip": null,
            "layout": "IPY_MODEL_c383df0e0f3744649df90668a81c1f80",
            "placeholder": "​",
            "style": "IPY_MODEL_793533d43d524e28bd02f30b5555ac64",
            "value": "train-00000-of-00001.parquet: 100%"
          }
        },
        "bd5729f6e1b6442380cd4991a87a2cc2": {
          "model_module": "@jupyter-widgets/controls",
          "model_name": "FloatProgressModel",
          "model_module_version": "1.5.0",
          "state": {
            "_dom_classes": [],
            "_model_module": "@jupyter-widgets/controls",
            "_model_module_version": "1.5.0",
            "_model_name": "FloatProgressModel",
            "_view_count": null,
            "_view_module": "@jupyter-widgets/controls",
            "_view_module_version": "1.5.0",
            "_view_name": "ProgressView",
            "bar_style": "success",
            "description": "",
            "description_tooltip": null,
            "layout": "IPY_MODEL_516567aa0bbc46b9ac1ce54e7f3de141",
            "max": 243907724,
            "min": 0,
            "orientation": "horizontal",
            "style": "IPY_MODEL_a49e2e77c640473db6aca215e8d7ea4a",
            "value": 243907724
          }
        },
        "f98b172bf16f434f982a95d9632afdf4": {
          "model_module": "@jupyter-widgets/controls",
          "model_name": "HTMLModel",
          "model_module_version": "1.5.0",
          "state": {
            "_dom_classes": [],
            "_model_module": "@jupyter-widgets/controls",
            "_model_module_version": "1.5.0",
            "_model_name": "HTMLModel",
            "_view_count": null,
            "_view_module": "@jupyter-widgets/controls",
            "_view_module_version": "1.5.0",
            "_view_name": "HTMLView",
            "description": "",
            "description_tooltip": null,
            "layout": "IPY_MODEL_9a35ad72668a4abfb55d15f81b13f754",
            "placeholder": "​",
            "style": "IPY_MODEL_8db477100ec34d03a58b5d1261fe4106",
            "value": " 244M/244M [00:05&lt;00:00, 42.4MB/s]"
          }
        },
        "f2f48af27ebb46a5b085242661e0f817": {
          "model_module": "@jupyter-widgets/base",
          "model_name": "LayoutModel",
          "model_module_version": "1.2.0",
          "state": {
            "_model_module": "@jupyter-widgets/base",
            "_model_module_version": "1.2.0",
            "_model_name": "LayoutModel",
            "_view_count": null,
            "_view_module": "@jupyter-widgets/base",
            "_view_module_version": "1.2.0",
            "_view_name": "LayoutView",
            "align_content": null,
            "align_items": null,
            "align_self": null,
            "border": null,
            "bottom": null,
            "display": null,
            "flex": null,
            "flex_flow": null,
            "grid_area": null,
            "grid_auto_columns": null,
            "grid_auto_flow": null,
            "grid_auto_rows": null,
            "grid_column": null,
            "grid_gap": null,
            "grid_row": null,
            "grid_template_areas": null,
            "grid_template_columns": null,
            "grid_template_rows": null,
            "height": null,
            "justify_content": null,
            "justify_items": null,
            "left": null,
            "margin": null,
            "max_height": null,
            "max_width": null,
            "min_height": null,
            "min_width": null,
            "object_fit": null,
            "object_position": null,
            "order": null,
            "overflow": null,
            "overflow_x": null,
            "overflow_y": null,
            "padding": null,
            "right": null,
            "top": null,
            "visibility": null,
            "width": null
          }
        },
        "c383df0e0f3744649df90668a81c1f80": {
          "model_module": "@jupyter-widgets/base",
          "model_name": "LayoutModel",
          "model_module_version": "1.2.0",
          "state": {
            "_model_module": "@jupyter-widgets/base",
            "_model_module_version": "1.2.0",
            "_model_name": "LayoutModel",
            "_view_count": null,
            "_view_module": "@jupyter-widgets/base",
            "_view_module_version": "1.2.0",
            "_view_name": "LayoutView",
            "align_content": null,
            "align_items": null,
            "align_self": null,
            "border": null,
            "bottom": null,
            "display": null,
            "flex": null,
            "flex_flow": null,
            "grid_area": null,
            "grid_auto_columns": null,
            "grid_auto_flow": null,
            "grid_auto_rows": null,
            "grid_column": null,
            "grid_gap": null,
            "grid_row": null,
            "grid_template_areas": null,
            "grid_template_columns": null,
            "grid_template_rows": null,
            "height": null,
            "justify_content": null,
            "justify_items": null,
            "left": null,
            "margin": null,
            "max_height": null,
            "max_width": null,
            "min_height": null,
            "min_width": null,
            "object_fit": null,
            "object_position": null,
            "order": null,
            "overflow": null,
            "overflow_x": null,
            "overflow_y": null,
            "padding": null,
            "right": null,
            "top": null,
            "visibility": null,
            "width": null
          }
        },
        "793533d43d524e28bd02f30b5555ac64": {
          "model_module": "@jupyter-widgets/controls",
          "model_name": "DescriptionStyleModel",
          "model_module_version": "1.5.0",
          "state": {
            "_model_module": "@jupyter-widgets/controls",
            "_model_module_version": "1.5.0",
            "_model_name": "DescriptionStyleModel",
            "_view_count": null,
            "_view_module": "@jupyter-widgets/base",
            "_view_module_version": "1.2.0",
            "_view_name": "StyleView",
            "description_width": ""
          }
        },
        "516567aa0bbc46b9ac1ce54e7f3de141": {
          "model_module": "@jupyter-widgets/base",
          "model_name": "LayoutModel",
          "model_module_version": "1.2.0",
          "state": {
            "_model_module": "@jupyter-widgets/base",
            "_model_module_version": "1.2.0",
            "_model_name": "LayoutModel",
            "_view_count": null,
            "_view_module": "@jupyter-widgets/base",
            "_view_module_version": "1.2.0",
            "_view_name": "LayoutView",
            "align_content": null,
            "align_items": null,
            "align_self": null,
            "border": null,
            "bottom": null,
            "display": null,
            "flex": null,
            "flex_flow": null,
            "grid_area": null,
            "grid_auto_columns": null,
            "grid_auto_flow": null,
            "grid_auto_rows": null,
            "grid_column": null,
            "grid_gap": null,
            "grid_row": null,
            "grid_template_areas": null,
            "grid_template_columns": null,
            "grid_template_rows": null,
            "height": null,
            "justify_content": null,
            "justify_items": null,
            "left": null,
            "margin": null,
            "max_height": null,
            "max_width": null,
            "min_height": null,
            "min_width": null,
            "object_fit": null,
            "object_position": null,
            "order": null,
            "overflow": null,
            "overflow_x": null,
            "overflow_y": null,
            "padding": null,
            "right": null,
            "top": null,
            "visibility": null,
            "width": null
          }
        },
        "a49e2e77c640473db6aca215e8d7ea4a": {
          "model_module": "@jupyter-widgets/controls",
          "model_name": "ProgressStyleModel",
          "model_module_version": "1.5.0",
          "state": {
            "_model_module": "@jupyter-widgets/controls",
            "_model_module_version": "1.5.0",
            "_model_name": "ProgressStyleModel",
            "_view_count": null,
            "_view_module": "@jupyter-widgets/base",
            "_view_module_version": "1.2.0",
            "_view_name": "StyleView",
            "bar_color": null,
            "description_width": ""
          }
        },
        "9a35ad72668a4abfb55d15f81b13f754": {
          "model_module": "@jupyter-widgets/base",
          "model_name": "LayoutModel",
          "model_module_version": "1.2.0",
          "state": {
            "_model_module": "@jupyter-widgets/base",
            "_model_module_version": "1.2.0",
            "_model_name": "LayoutModel",
            "_view_count": null,
            "_view_module": "@jupyter-widgets/base",
            "_view_module_version": "1.2.0",
            "_view_name": "LayoutView",
            "align_content": null,
            "align_items": null,
            "align_self": null,
            "border": null,
            "bottom": null,
            "display": null,
            "flex": null,
            "flex_flow": null,
            "grid_area": null,
            "grid_auto_columns": null,
            "grid_auto_flow": null,
            "grid_auto_rows": null,
            "grid_column": null,
            "grid_gap": null,
            "grid_row": null,
            "grid_template_areas": null,
            "grid_template_columns": null,
            "grid_template_rows": null,
            "height": null,
            "justify_content": null,
            "justify_items": null,
            "left": null,
            "margin": null,
            "max_height": null,
            "max_width": null,
            "min_height": null,
            "min_width": null,
            "object_fit": null,
            "object_position": null,
            "order": null,
            "overflow": null,
            "overflow_x": null,
            "overflow_y": null,
            "padding": null,
            "right": null,
            "top": null,
            "visibility": null,
            "width": null
          }
        },
        "8db477100ec34d03a58b5d1261fe4106": {
          "model_module": "@jupyter-widgets/controls",
          "model_name": "DescriptionStyleModel",
          "model_module_version": "1.5.0",
          "state": {
            "_model_module": "@jupyter-widgets/controls",
            "_model_module_version": "1.5.0",
            "_model_name": "DescriptionStyleModel",
            "_view_count": null,
            "_view_module": "@jupyter-widgets/base",
            "_view_module_version": "1.2.0",
            "_view_name": "StyleView",
            "description_width": ""
          }
        },
        "b43ed173dfb943af83309750ac4555ae": {
          "model_module": "@jupyter-widgets/controls",
          "model_name": "HBoxModel",
          "model_module_version": "1.5.0",
          "state": {
            "_dom_classes": [],
            "_model_module": "@jupyter-widgets/controls",
            "_model_module_version": "1.5.0",
            "_model_name": "HBoxModel",
            "_view_count": null,
            "_view_module": "@jupyter-widgets/controls",
            "_view_module_version": "1.5.0",
            "_view_name": "HBoxView",
            "box_style": "",
            "children": [
              "IPY_MODEL_c4f2fd5c1b344ce8bf6f460011a58c45",
              "IPY_MODEL_6bd7671f39564a57be4f8d992c7d10fb",
              "IPY_MODEL_d453b0ed8ad041fc88f32206076ac5bd"
            ],
            "layout": "IPY_MODEL_185d340d316e45b79b5ccaa2b9663556"
          }
        },
        "c4f2fd5c1b344ce8bf6f460011a58c45": {
          "model_module": "@jupyter-widgets/controls",
          "model_name": "HTMLModel",
          "model_module_version": "1.5.0",
          "state": {
            "_dom_classes": [],
            "_model_module": "@jupyter-widgets/controls",
            "_model_module_version": "1.5.0",
            "_model_name": "HTMLModel",
            "_view_count": null,
            "_view_module": "@jupyter-widgets/controls",
            "_view_module_version": "1.5.0",
            "_view_name": "HTMLView",
            "description": "",
            "description_tooltip": null,
            "layout": "IPY_MODEL_e1a10e63690e40c7b9cbe81139abf3c7",
            "placeholder": "​",
            "style": "IPY_MODEL_aea9f2b5a2ae429ab92f3d3de3587794",
            "value": "test-00000-of-00001.parquet: 100%"
          }
        },
        "6bd7671f39564a57be4f8d992c7d10fb": {
          "model_module": "@jupyter-widgets/controls",
          "model_name": "FloatProgressModel",
          "model_module_version": "1.5.0",
          "state": {
            "_dom_classes": [],
            "_model_module": "@jupyter-widgets/controls",
            "_model_module_version": "1.5.0",
            "_model_name": "FloatProgressModel",
            "_view_count": null,
            "_view_module": "@jupyter-widgets/controls",
            "_view_module_version": "1.5.0",
            "_view_name": "ProgressView",
            "bar_style": "success",
            "description": "",
            "description_tooltip": null,
            "layout": "IPY_MODEL_3f883a05e2254366a731170837495918",
            "max": 59960777,
            "min": 0,
            "orientation": "horizontal",
            "style": "IPY_MODEL_a42e36163cc04275b786f9aa1f1ed211",
            "value": 59960777
          }
        },
        "d453b0ed8ad041fc88f32206076ac5bd": {
          "model_module": "@jupyter-widgets/controls",
          "model_name": "HTMLModel",
          "model_module_version": "1.5.0",
          "state": {
            "_dom_classes": [],
            "_model_module": "@jupyter-widgets/controls",
            "_model_module_version": "1.5.0",
            "_model_name": "HTMLModel",
            "_view_count": null,
            "_view_module": "@jupyter-widgets/controls",
            "_view_module_version": "1.5.0",
            "_view_name": "HTMLView",
            "description": "",
            "description_tooltip": null,
            "layout": "IPY_MODEL_9f9f767d8bc14e3dbfa6e409a5a19392",
            "placeholder": "​",
            "style": "IPY_MODEL_25fe309eb4214d8184c8f492458808c5",
            "value": " 60.0M/60.0M [00:01&lt;00:00, 42.7MB/s]"
          }
        },
        "185d340d316e45b79b5ccaa2b9663556": {
          "model_module": "@jupyter-widgets/base",
          "model_name": "LayoutModel",
          "model_module_version": "1.2.0",
          "state": {
            "_model_module": "@jupyter-widgets/base",
            "_model_module_version": "1.2.0",
            "_model_name": "LayoutModel",
            "_view_count": null,
            "_view_module": "@jupyter-widgets/base",
            "_view_module_version": "1.2.0",
            "_view_name": "LayoutView",
            "align_content": null,
            "align_items": null,
            "align_self": null,
            "border": null,
            "bottom": null,
            "display": null,
            "flex": null,
            "flex_flow": null,
            "grid_area": null,
            "grid_auto_columns": null,
            "grid_auto_flow": null,
            "grid_auto_rows": null,
            "grid_column": null,
            "grid_gap": null,
            "grid_row": null,
            "grid_template_areas": null,
            "grid_template_columns": null,
            "grid_template_rows": null,
            "height": null,
            "justify_content": null,
            "justify_items": null,
            "left": null,
            "margin": null,
            "max_height": null,
            "max_width": null,
            "min_height": null,
            "min_width": null,
            "object_fit": null,
            "object_position": null,
            "order": null,
            "overflow": null,
            "overflow_x": null,
            "overflow_y": null,
            "padding": null,
            "right": null,
            "top": null,
            "visibility": null,
            "width": null
          }
        },
        "e1a10e63690e40c7b9cbe81139abf3c7": {
          "model_module": "@jupyter-widgets/base",
          "model_name": "LayoutModel",
          "model_module_version": "1.2.0",
          "state": {
            "_model_module": "@jupyter-widgets/base",
            "_model_module_version": "1.2.0",
            "_model_name": "LayoutModel",
            "_view_count": null,
            "_view_module": "@jupyter-widgets/base",
            "_view_module_version": "1.2.0",
            "_view_name": "LayoutView",
            "align_content": null,
            "align_items": null,
            "align_self": null,
            "border": null,
            "bottom": null,
            "display": null,
            "flex": null,
            "flex_flow": null,
            "grid_area": null,
            "grid_auto_columns": null,
            "grid_auto_flow": null,
            "grid_auto_rows": null,
            "grid_column": null,
            "grid_gap": null,
            "grid_row": null,
            "grid_template_areas": null,
            "grid_template_columns": null,
            "grid_template_rows": null,
            "height": null,
            "justify_content": null,
            "justify_items": null,
            "left": null,
            "margin": null,
            "max_height": null,
            "max_width": null,
            "min_height": null,
            "min_width": null,
            "object_fit": null,
            "object_position": null,
            "order": null,
            "overflow": null,
            "overflow_x": null,
            "overflow_y": null,
            "padding": null,
            "right": null,
            "top": null,
            "visibility": null,
            "width": null
          }
        },
        "aea9f2b5a2ae429ab92f3d3de3587794": {
          "model_module": "@jupyter-widgets/controls",
          "model_name": "DescriptionStyleModel",
          "model_module_version": "1.5.0",
          "state": {
            "_model_module": "@jupyter-widgets/controls",
            "_model_module_version": "1.5.0",
            "_model_name": "DescriptionStyleModel",
            "_view_count": null,
            "_view_module": "@jupyter-widgets/base",
            "_view_module_version": "1.2.0",
            "_view_name": "StyleView",
            "description_width": ""
          }
        },
        "3f883a05e2254366a731170837495918": {
          "model_module": "@jupyter-widgets/base",
          "model_name": "LayoutModel",
          "model_module_version": "1.2.0",
          "state": {
            "_model_module": "@jupyter-widgets/base",
            "_model_module_version": "1.2.0",
            "_model_name": "LayoutModel",
            "_view_count": null,
            "_view_module": "@jupyter-widgets/base",
            "_view_module_version": "1.2.0",
            "_view_name": "LayoutView",
            "align_content": null,
            "align_items": null,
            "align_self": null,
            "border": null,
            "bottom": null,
            "display": null,
            "flex": null,
            "flex_flow": null,
            "grid_area": null,
            "grid_auto_columns": null,
            "grid_auto_flow": null,
            "grid_auto_rows": null,
            "grid_column": null,
            "grid_gap": null,
            "grid_row": null,
            "grid_template_areas": null,
            "grid_template_columns": null,
            "grid_template_rows": null,
            "height": null,
            "justify_content": null,
            "justify_items": null,
            "left": null,
            "margin": null,
            "max_height": null,
            "max_width": null,
            "min_height": null,
            "min_width": null,
            "object_fit": null,
            "object_position": null,
            "order": null,
            "overflow": null,
            "overflow_x": null,
            "overflow_y": null,
            "padding": null,
            "right": null,
            "top": null,
            "visibility": null,
            "width": null
          }
        },
        "a42e36163cc04275b786f9aa1f1ed211": {
          "model_module": "@jupyter-widgets/controls",
          "model_name": "ProgressStyleModel",
          "model_module_version": "1.5.0",
          "state": {
            "_model_module": "@jupyter-widgets/controls",
            "_model_module_version": "1.5.0",
            "_model_name": "ProgressStyleModel",
            "_view_count": null,
            "_view_module": "@jupyter-widgets/base",
            "_view_module_version": "1.2.0",
            "_view_name": "StyleView",
            "bar_color": null,
            "description_width": ""
          }
        },
        "9f9f767d8bc14e3dbfa6e409a5a19392": {
          "model_module": "@jupyter-widgets/base",
          "model_name": "LayoutModel",
          "model_module_version": "1.2.0",
          "state": {
            "_model_module": "@jupyter-widgets/base",
            "_model_module_version": "1.2.0",
            "_model_name": "LayoutModel",
            "_view_count": null,
            "_view_module": "@jupyter-widgets/base",
            "_view_module_version": "1.2.0",
            "_view_name": "LayoutView",
            "align_content": null,
            "align_items": null,
            "align_self": null,
            "border": null,
            "bottom": null,
            "display": null,
            "flex": null,
            "flex_flow": null,
            "grid_area": null,
            "grid_auto_columns": null,
            "grid_auto_flow": null,
            "grid_auto_rows": null,
            "grid_column": null,
            "grid_gap": null,
            "grid_row": null,
            "grid_template_areas": null,
            "grid_template_columns": null,
            "grid_template_rows": null,
            "height": null,
            "justify_content": null,
            "justify_items": null,
            "left": null,
            "margin": null,
            "max_height": null,
            "max_width": null,
            "min_height": null,
            "min_width": null,
            "object_fit": null,
            "object_position": null,
            "order": null,
            "overflow": null,
            "overflow_x": null,
            "overflow_y": null,
            "padding": null,
            "right": null,
            "top": null,
            "visibility": null,
            "width": null
          }
        },
        "25fe309eb4214d8184c8f492458808c5": {
          "model_module": "@jupyter-widgets/controls",
          "model_name": "DescriptionStyleModel",
          "model_module_version": "1.5.0",
          "state": {
            "_model_module": "@jupyter-widgets/controls",
            "_model_module_version": "1.5.0",
            "_model_name": "DescriptionStyleModel",
            "_view_count": null,
            "_view_module": "@jupyter-widgets/base",
            "_view_module_version": "1.2.0",
            "_view_name": "StyleView",
            "description_width": ""
          }
        },
        "f5c9da68e033448ca07a2c86a5920718": {
          "model_module": "@jupyter-widgets/controls",
          "model_name": "HBoxModel",
          "model_module_version": "1.5.0",
          "state": {
            "_dom_classes": [],
            "_model_module": "@jupyter-widgets/controls",
            "_model_module_version": "1.5.0",
            "_model_name": "HBoxModel",
            "_view_count": null,
            "_view_module": "@jupyter-widgets/controls",
            "_view_module_version": "1.5.0",
            "_view_name": "HBoxView",
            "box_style": "",
            "children": [
              "IPY_MODEL_1a648d0ce1444e859d023b1afd9994d0",
              "IPY_MODEL_f762685b2c8c4f9db8c959dd09dccebf",
              "IPY_MODEL_1226dce325d9405cbdd47d28062bb46a"
            ],
            "layout": "IPY_MODEL_43a39ee8884b4c87a25ad35663301e09"
          }
        },
        "1a648d0ce1444e859d023b1afd9994d0": {
          "model_module": "@jupyter-widgets/controls",
          "model_name": "HTMLModel",
          "model_module_version": "1.5.0",
          "state": {
            "_dom_classes": [],
            "_model_module": "@jupyter-widgets/controls",
            "_model_module_version": "1.5.0",
            "_model_name": "HTMLModel",
            "_view_count": null,
            "_view_module": "@jupyter-widgets/controls",
            "_view_module_version": "1.5.0",
            "_view_name": "HTMLView",
            "description": "",
            "description_tooltip": null,
            "layout": "IPY_MODEL_e70bbd56e5c14c6a8062cc24c3c6916e",
            "placeholder": "​",
            "style": "IPY_MODEL_4990b8129d894c37b560b09af1e1fbf4",
            "value": "Generating train split: 100%"
          }
        },
        "f762685b2c8c4f9db8c959dd09dccebf": {
          "model_module": "@jupyter-widgets/controls",
          "model_name": "FloatProgressModel",
          "model_module_version": "1.5.0",
          "state": {
            "_dom_classes": [],
            "_model_module": "@jupyter-widgets/controls",
            "_model_module_version": "1.5.0",
            "_model_name": "FloatProgressModel",
            "_view_count": null,
            "_view_module": "@jupyter-widgets/controls",
            "_view_module_version": "1.5.0",
            "_view_name": "ProgressView",
            "bar_style": "success",
            "description": "",
            "description_tooltip": null,
            "layout": "IPY_MODEL_c23738c1b33c4373a9137bdc35ecb4b0",
            "max": 1966,
            "min": 0,
            "orientation": "horizontal",
            "style": "IPY_MODEL_4c3a4b29249c44789e0123b8453fe93a",
            "value": 1966
          }
        },
        "1226dce325d9405cbdd47d28062bb46a": {
          "model_module": "@jupyter-widgets/controls",
          "model_name": "HTMLModel",
          "model_module_version": "1.5.0",
          "state": {
            "_dom_classes": [],
            "_model_module": "@jupyter-widgets/controls",
            "_model_module_version": "1.5.0",
            "_model_name": "HTMLModel",
            "_view_count": null,
            "_view_module": "@jupyter-widgets/controls",
            "_view_module_version": "1.5.0",
            "_view_name": "HTMLView",
            "description": "",
            "description_tooltip": null,
            "layout": "IPY_MODEL_57eb93a014f3468885234b210acb65a2",
            "placeholder": "​",
            "style": "IPY_MODEL_6ed6e034f7344794993d35f1acbc28a4",
            "value": " 1966/1966 [00:01&lt;00:00, 1358.67 examples/s]"
          }
        },
        "43a39ee8884b4c87a25ad35663301e09": {
          "model_module": "@jupyter-widgets/base",
          "model_name": "LayoutModel",
          "model_module_version": "1.2.0",
          "state": {
            "_model_module": "@jupyter-widgets/base",
            "_model_module_version": "1.2.0",
            "_model_name": "LayoutModel",
            "_view_count": null,
            "_view_module": "@jupyter-widgets/base",
            "_view_module_version": "1.2.0",
            "_view_name": "LayoutView",
            "align_content": null,
            "align_items": null,
            "align_self": null,
            "border": null,
            "bottom": null,
            "display": null,
            "flex": null,
            "flex_flow": null,
            "grid_area": null,
            "grid_auto_columns": null,
            "grid_auto_flow": null,
            "grid_auto_rows": null,
            "grid_column": null,
            "grid_gap": null,
            "grid_row": null,
            "grid_template_areas": null,
            "grid_template_columns": null,
            "grid_template_rows": null,
            "height": null,
            "justify_content": null,
            "justify_items": null,
            "left": null,
            "margin": null,
            "max_height": null,
            "max_width": null,
            "min_height": null,
            "min_width": null,
            "object_fit": null,
            "object_position": null,
            "order": null,
            "overflow": null,
            "overflow_x": null,
            "overflow_y": null,
            "padding": null,
            "right": null,
            "top": null,
            "visibility": null,
            "width": null
          }
        },
        "e70bbd56e5c14c6a8062cc24c3c6916e": {
          "model_module": "@jupyter-widgets/base",
          "model_name": "LayoutModel",
          "model_module_version": "1.2.0",
          "state": {
            "_model_module": "@jupyter-widgets/base",
            "_model_module_version": "1.2.0",
            "_model_name": "LayoutModel",
            "_view_count": null,
            "_view_module": "@jupyter-widgets/base",
            "_view_module_version": "1.2.0",
            "_view_name": "LayoutView",
            "align_content": null,
            "align_items": null,
            "align_self": null,
            "border": null,
            "bottom": null,
            "display": null,
            "flex": null,
            "flex_flow": null,
            "grid_area": null,
            "grid_auto_columns": null,
            "grid_auto_flow": null,
            "grid_auto_rows": null,
            "grid_column": null,
            "grid_gap": null,
            "grid_row": null,
            "grid_template_areas": null,
            "grid_template_columns": null,
            "grid_template_rows": null,
            "height": null,
            "justify_content": null,
            "justify_items": null,
            "left": null,
            "margin": null,
            "max_height": null,
            "max_width": null,
            "min_height": null,
            "min_width": null,
            "object_fit": null,
            "object_position": null,
            "order": null,
            "overflow": null,
            "overflow_x": null,
            "overflow_y": null,
            "padding": null,
            "right": null,
            "top": null,
            "visibility": null,
            "width": null
          }
        },
        "4990b8129d894c37b560b09af1e1fbf4": {
          "model_module": "@jupyter-widgets/controls",
          "model_name": "DescriptionStyleModel",
          "model_module_version": "1.5.0",
          "state": {
            "_model_module": "@jupyter-widgets/controls",
            "_model_module_version": "1.5.0",
            "_model_name": "DescriptionStyleModel",
            "_view_count": null,
            "_view_module": "@jupyter-widgets/base",
            "_view_module_version": "1.2.0",
            "_view_name": "StyleView",
            "description_width": ""
          }
        },
        "c23738c1b33c4373a9137bdc35ecb4b0": {
          "model_module": "@jupyter-widgets/base",
          "model_name": "LayoutModel",
          "model_module_version": "1.2.0",
          "state": {
            "_model_module": "@jupyter-widgets/base",
            "_model_module_version": "1.2.0",
            "_model_name": "LayoutModel",
            "_view_count": null,
            "_view_module": "@jupyter-widgets/base",
            "_view_module_version": "1.2.0",
            "_view_name": "LayoutView",
            "align_content": null,
            "align_items": null,
            "align_self": null,
            "border": null,
            "bottom": null,
            "display": null,
            "flex": null,
            "flex_flow": null,
            "grid_area": null,
            "grid_auto_columns": null,
            "grid_auto_flow": null,
            "grid_auto_rows": null,
            "grid_column": null,
            "grid_gap": null,
            "grid_row": null,
            "grid_template_areas": null,
            "grid_template_columns": null,
            "grid_template_rows": null,
            "height": null,
            "justify_content": null,
            "justify_items": null,
            "left": null,
            "margin": null,
            "max_height": null,
            "max_width": null,
            "min_height": null,
            "min_width": null,
            "object_fit": null,
            "object_position": null,
            "order": null,
            "overflow": null,
            "overflow_x": null,
            "overflow_y": null,
            "padding": null,
            "right": null,
            "top": null,
            "visibility": null,
            "width": null
          }
        },
        "4c3a4b29249c44789e0123b8453fe93a": {
          "model_module": "@jupyter-widgets/controls",
          "model_name": "ProgressStyleModel",
          "model_module_version": "1.5.0",
          "state": {
            "_model_module": "@jupyter-widgets/controls",
            "_model_module_version": "1.5.0",
            "_model_name": "ProgressStyleModel",
            "_view_count": null,
            "_view_module": "@jupyter-widgets/base",
            "_view_module_version": "1.2.0",
            "_view_name": "StyleView",
            "bar_color": null,
            "description_width": ""
          }
        },
        "57eb93a014f3468885234b210acb65a2": {
          "model_module": "@jupyter-widgets/base",
          "model_name": "LayoutModel",
          "model_module_version": "1.2.0",
          "state": {
            "_model_module": "@jupyter-widgets/base",
            "_model_module_version": "1.2.0",
            "_model_name": "LayoutModel",
            "_view_count": null,
            "_view_module": "@jupyter-widgets/base",
            "_view_module_version": "1.2.0",
            "_view_name": "LayoutView",
            "align_content": null,
            "align_items": null,
            "align_self": null,
            "border": null,
            "bottom": null,
            "display": null,
            "flex": null,
            "flex_flow": null,
            "grid_area": null,
            "grid_auto_columns": null,
            "grid_auto_flow": null,
            "grid_auto_rows": null,
            "grid_column": null,
            "grid_gap": null,
            "grid_row": null,
            "grid_template_areas": null,
            "grid_template_columns": null,
            "grid_template_rows": null,
            "height": null,
            "justify_content": null,
            "justify_items": null,
            "left": null,
            "margin": null,
            "max_height": null,
            "max_width": null,
            "min_height": null,
            "min_width": null,
            "object_fit": null,
            "object_position": null,
            "order": null,
            "overflow": null,
            "overflow_x": null,
            "overflow_y": null,
            "padding": null,
            "right": null,
            "top": null,
            "visibility": null,
            "width": null
          }
        },
        "6ed6e034f7344794993d35f1acbc28a4": {
          "model_module": "@jupyter-widgets/controls",
          "model_name": "DescriptionStyleModel",
          "model_module_version": "1.5.0",
          "state": {
            "_model_module": "@jupyter-widgets/controls",
            "_model_module_version": "1.5.0",
            "_model_name": "DescriptionStyleModel",
            "_view_count": null,
            "_view_module": "@jupyter-widgets/base",
            "_view_module_version": "1.2.0",
            "_view_name": "StyleView",
            "description_width": ""
          }
        },
        "2c732119c06648c78f9f793643295f84": {
          "model_module": "@jupyter-widgets/controls",
          "model_name": "HBoxModel",
          "model_module_version": "1.5.0",
          "state": {
            "_dom_classes": [],
            "_model_module": "@jupyter-widgets/controls",
            "_model_module_version": "1.5.0",
            "_model_name": "HBoxModel",
            "_view_count": null,
            "_view_module": "@jupyter-widgets/controls",
            "_view_module_version": "1.5.0",
            "_view_name": "HBoxView",
            "box_style": "",
            "children": [
              "IPY_MODEL_81141288351046d3b98777406c511427",
              "IPY_MODEL_4c771c87f9824ffab8ae221c38581384",
              "IPY_MODEL_87ade189a350467a8e085ba9736b3910"
            ],
            "layout": "IPY_MODEL_0bff62922a1d4021953a5c04bb477c5f"
          }
        },
        "81141288351046d3b98777406c511427": {
          "model_module": "@jupyter-widgets/controls",
          "model_name": "HTMLModel",
          "model_module_version": "1.5.0",
          "state": {
            "_dom_classes": [],
            "_model_module": "@jupyter-widgets/controls",
            "_model_module_version": "1.5.0",
            "_model_name": "HTMLModel",
            "_view_count": null,
            "_view_module": "@jupyter-widgets/controls",
            "_view_module_version": "1.5.0",
            "_view_name": "HTMLView",
            "description": "",
            "description_tooltip": null,
            "layout": "IPY_MODEL_941f0edb82b847929b14edd472d5e22e",
            "placeholder": "​",
            "style": "IPY_MODEL_8c735665cecc4b93ad0839884df064eb",
            "value": "Generating test split: 100%"
          }
        },
        "4c771c87f9824ffab8ae221c38581384": {
          "model_module": "@jupyter-widgets/controls",
          "model_name": "FloatProgressModel",
          "model_module_version": "1.5.0",
          "state": {
            "_dom_classes": [],
            "_model_module": "@jupyter-widgets/controls",
            "_model_module_version": "1.5.0",
            "_model_name": "FloatProgressModel",
            "_view_count": null,
            "_view_module": "@jupyter-widgets/controls",
            "_view_module_version": "1.5.0",
            "_view_name": "ProgressView",
            "bar_style": "success",
            "description": "",
            "description_tooltip": null,
            "layout": "IPY_MODEL_d846969fd99747b98fb2558a169d5294",
            "max": 450,
            "min": 0,
            "orientation": "horizontal",
            "style": "IPY_MODEL_441e3db520c0440dbd25098bccbf9c4d",
            "value": 450
          }
        },
        "87ade189a350467a8e085ba9736b3910": {
          "model_module": "@jupyter-widgets/controls",
          "model_name": "HTMLModel",
          "model_module_version": "1.5.0",
          "state": {
            "_dom_classes": [],
            "_model_module": "@jupyter-widgets/controls",
            "_model_module_version": "1.5.0",
            "_model_name": "HTMLModel",
            "_view_count": null,
            "_view_module": "@jupyter-widgets/controls",
            "_view_module_version": "1.5.0",
            "_view_name": "HTMLView",
            "description": "",
            "description_tooltip": null,
            "layout": "IPY_MODEL_3f6553500ecf470688037c8287e726d4",
            "placeholder": "​",
            "style": "IPY_MODEL_1241b951fcd8457a94b69c1f7d67f87a",
            "value": " 450/450 [00:00&lt;00:00, 1492.93 examples/s]"
          }
        },
        "0bff62922a1d4021953a5c04bb477c5f": {
          "model_module": "@jupyter-widgets/base",
          "model_name": "LayoutModel",
          "model_module_version": "1.2.0",
          "state": {
            "_model_module": "@jupyter-widgets/base",
            "_model_module_version": "1.2.0",
            "_model_name": "LayoutModel",
            "_view_count": null,
            "_view_module": "@jupyter-widgets/base",
            "_view_module_version": "1.2.0",
            "_view_name": "LayoutView",
            "align_content": null,
            "align_items": null,
            "align_self": null,
            "border": null,
            "bottom": null,
            "display": null,
            "flex": null,
            "flex_flow": null,
            "grid_area": null,
            "grid_auto_columns": null,
            "grid_auto_flow": null,
            "grid_auto_rows": null,
            "grid_column": null,
            "grid_gap": null,
            "grid_row": null,
            "grid_template_areas": null,
            "grid_template_columns": null,
            "grid_template_rows": null,
            "height": null,
            "justify_content": null,
            "justify_items": null,
            "left": null,
            "margin": null,
            "max_height": null,
            "max_width": null,
            "min_height": null,
            "min_width": null,
            "object_fit": null,
            "object_position": null,
            "order": null,
            "overflow": null,
            "overflow_x": null,
            "overflow_y": null,
            "padding": null,
            "right": null,
            "top": null,
            "visibility": null,
            "width": null
          }
        },
        "941f0edb82b847929b14edd472d5e22e": {
          "model_module": "@jupyter-widgets/base",
          "model_name": "LayoutModel",
          "model_module_version": "1.2.0",
          "state": {
            "_model_module": "@jupyter-widgets/base",
            "_model_module_version": "1.2.0",
            "_model_name": "LayoutModel",
            "_view_count": null,
            "_view_module": "@jupyter-widgets/base",
            "_view_module_version": "1.2.0",
            "_view_name": "LayoutView",
            "align_content": null,
            "align_items": null,
            "align_self": null,
            "border": null,
            "bottom": null,
            "display": null,
            "flex": null,
            "flex_flow": null,
            "grid_area": null,
            "grid_auto_columns": null,
            "grid_auto_flow": null,
            "grid_auto_rows": null,
            "grid_column": null,
            "grid_gap": null,
            "grid_row": null,
            "grid_template_areas": null,
            "grid_template_columns": null,
            "grid_template_rows": null,
            "height": null,
            "justify_content": null,
            "justify_items": null,
            "left": null,
            "margin": null,
            "max_height": null,
            "max_width": null,
            "min_height": null,
            "min_width": null,
            "object_fit": null,
            "object_position": null,
            "order": null,
            "overflow": null,
            "overflow_x": null,
            "overflow_y": null,
            "padding": null,
            "right": null,
            "top": null,
            "visibility": null,
            "width": null
          }
        },
        "8c735665cecc4b93ad0839884df064eb": {
          "model_module": "@jupyter-widgets/controls",
          "model_name": "DescriptionStyleModel",
          "model_module_version": "1.5.0",
          "state": {
            "_model_module": "@jupyter-widgets/controls",
            "_model_module_version": "1.5.0",
            "_model_name": "DescriptionStyleModel",
            "_view_count": null,
            "_view_module": "@jupyter-widgets/base",
            "_view_module_version": "1.2.0",
            "_view_name": "StyleView",
            "description_width": ""
          }
        },
        "d846969fd99747b98fb2558a169d5294": {
          "model_module": "@jupyter-widgets/base",
          "model_name": "LayoutModel",
          "model_module_version": "1.2.0",
          "state": {
            "_model_module": "@jupyter-widgets/base",
            "_model_module_version": "1.2.0",
            "_model_name": "LayoutModel",
            "_view_count": null,
            "_view_module": "@jupyter-widgets/base",
            "_view_module_version": "1.2.0",
            "_view_name": "LayoutView",
            "align_content": null,
            "align_items": null,
            "align_self": null,
            "border": null,
            "bottom": null,
            "display": null,
            "flex": null,
            "flex_flow": null,
            "grid_area": null,
            "grid_auto_columns": null,
            "grid_auto_flow": null,
            "grid_auto_rows": null,
            "grid_column": null,
            "grid_gap": null,
            "grid_row": null,
            "grid_template_areas": null,
            "grid_template_columns": null,
            "grid_template_rows": null,
            "height": null,
            "justify_content": null,
            "justify_items": null,
            "left": null,
            "margin": null,
            "max_height": null,
            "max_width": null,
            "min_height": null,
            "min_width": null,
            "object_fit": null,
            "object_position": null,
            "order": null,
            "overflow": null,
            "overflow_x": null,
            "overflow_y": null,
            "padding": null,
            "right": null,
            "top": null,
            "visibility": null,
            "width": null
          }
        },
        "441e3db520c0440dbd25098bccbf9c4d": {
          "model_module": "@jupyter-widgets/controls",
          "model_name": "ProgressStyleModel",
          "model_module_version": "1.5.0",
          "state": {
            "_model_module": "@jupyter-widgets/controls",
            "_model_module_version": "1.5.0",
            "_model_name": "ProgressStyleModel",
            "_view_count": null,
            "_view_module": "@jupyter-widgets/base",
            "_view_module_version": "1.2.0",
            "_view_name": "StyleView",
            "bar_color": null,
            "description_width": ""
          }
        },
        "3f6553500ecf470688037c8287e726d4": {
          "model_module": "@jupyter-widgets/base",
          "model_name": "LayoutModel",
          "model_module_version": "1.2.0",
          "state": {
            "_model_module": "@jupyter-widgets/base",
            "_model_module_version": "1.2.0",
            "_model_name": "LayoutModel",
            "_view_count": null,
            "_view_module": "@jupyter-widgets/base",
            "_view_module_version": "1.2.0",
            "_view_name": "LayoutView",
            "align_content": null,
            "align_items": null,
            "align_self": null,
            "border": null,
            "bottom": null,
            "display": null,
            "flex": null,
            "flex_flow": null,
            "grid_area": null,
            "grid_auto_columns": null,
            "grid_auto_flow": null,
            "grid_auto_rows": null,
            "grid_column": null,
            "grid_gap": null,
            "grid_row": null,
            "grid_template_areas": null,
            "grid_template_columns": null,
            "grid_template_rows": null,
            "height": null,
            "justify_content": null,
            "justify_items": null,
            "left": null,
            "margin": null,
            "max_height": null,
            "max_width": null,
            "min_height": null,
            "min_width": null,
            "object_fit": null,
            "object_position": null,
            "order": null,
            "overflow": null,
            "overflow_x": null,
            "overflow_y": null,
            "padding": null,
            "right": null,
            "top": null,
            "visibility": null,
            "width": null
          }
        },
        "1241b951fcd8457a94b69c1f7d67f87a": {
          "model_module": "@jupyter-widgets/controls",
          "model_name": "DescriptionStyleModel",
          "model_module_version": "1.5.0",
          "state": {
            "_model_module": "@jupyter-widgets/controls",
            "_model_module_version": "1.5.0",
            "_model_name": "DescriptionStyleModel",
            "_view_count": null,
            "_view_module": "@jupyter-widgets/base",
            "_view_module_version": "1.2.0",
            "_view_name": "StyleView",
            "description_width": ""
          }
        }
      }
    }
  },
  "cells": [
    {
      "cell_type": "markdown",
      "metadata": {
        "id": "view-in-github",
        "colab_type": "text"
      },
      "source": [
        "<a href=\"https://colab.research.google.com/github/HengxuanLiu6/5C4_Speech_Processing/blob/main/word_to_phoneme.ipynb\" target=\"_parent\"><img src=\"https://colab.research.google.com/assets/colab-badge.svg\" alt=\"Open In Colab\"/></a>"
      ]
    },
    {
      "cell_type": "code",
      "execution_count": null,
      "metadata": {
        "colab": {
          "base_uri": "https://localhost:8080/"
        },
        "id": "jS6J5IDmloqv",
        "outputId": "733c7f30-a194-45cb-c82b-8c877d4f22e9"
      },
      "outputs": [
        {
          "output_type": "stream",
          "name": "stdout",
          "text": [
            "Requirement already satisfied: nltk in /usr/local/lib/python3.11/dist-packages (3.9.1)\n",
            "Requirement already satisfied: click in /usr/local/lib/python3.11/dist-packages (from nltk) (8.1.8)\n",
            "Requirement already satisfied: joblib in /usr/local/lib/python3.11/dist-packages (from nltk) (1.4.2)\n",
            "Requirement already satisfied: regex>=2021.8.3 in /usr/local/lib/python3.11/dist-packages (from nltk) (2024.11.6)\n",
            "Requirement already satisfied: tqdm in /usr/local/lib/python3.11/dist-packages (from nltk) (4.67.1)\n"
          ]
        }
      ],
      "source": [
        "!pip install nltk"
      ]
    },
    {
      "cell_type": "code",
      "source": [
        "import nltk"
      ],
      "metadata": {
        "id": "EwP2qw47mCRj"
      },
      "execution_count": null,
      "outputs": []
    },
    {
      "cell_type": "code",
      "source": [
        "nltk.download('cmudict')"
      ],
      "metadata": {
        "colab": {
          "base_uri": "https://localhost:8080/"
        },
        "id": "uWnktlCvmOoj",
        "outputId": "9a9fba5a-aaee-438e-89d2-c66b12ff0e13"
      },
      "execution_count": null,
      "outputs": [
        {
          "output_type": "stream",
          "name": "stderr",
          "text": [
            "[nltk_data] Downloading package cmudict to /root/nltk_data...\n",
            "[nltk_data]   Unzipping corpora/cmudict.zip.\n"
          ]
        },
        {
          "output_type": "execute_result",
          "data": {
            "text/plain": [
              "True"
            ]
          },
          "metadata": {},
          "execution_count": 4
        }
      ]
    },
    {
      "cell_type": "code",
      "source": [
        "from nltk.corpus import cmudict\n",
        "cmu_dict = cmudict.dict()\n",
        "\n",
        "def word_to_phonetics(word):\n",
        "    \"\"\"Return the first phonetic transcription for a word using CMU dict.\"\"\"\n",
        "    lower_word = word.lower() #change the word to lowercase\n",
        "    if lower_word in cmu_dict:\n",
        "        # Each word can have multiple pronunciations; we choose the first one.\n",
        "        return ' '.join(cmu_dict[lower_word][0])\n",
        "    else:\n",
        "        # If the word isn't found, return the original word or handle as desired.\n",
        "        return word\n",
        "\n",
        "def phrase_to_phonetics(phrase):\n",
        "    \"\"\"Convert a phrase into its phonetic transcription.\"\"\"\n",
        "    words = phrase.split()\n",
        "    phonetic_words = [word_to_phonetics(word) for word in words]\n",
        "    # Join with a separator (here, three spaces between words for clarity)\n",
        "    return '   '.join(phonetic_words)"
      ],
      "metadata": {
        "id": "IQyV_EYNmYuq"
      },
      "execution_count": null,
      "outputs": []
    },
    {
      "cell_type": "code",
      "source": [
        "!pip install datasets"
      ],
      "metadata": {
        "colab": {
          "base_uri": "https://localhost:8080/"
        },
        "id": "2JZ4MjCpotCz",
        "outputId": "4120f47b-2387-40b3-c74b-35ea70e6aae6"
      },
      "execution_count": null,
      "outputs": [
        {
          "output_type": "stream",
          "name": "stdout",
          "text": [
            "Collecting datasets\n",
            "  Downloading datasets-3.3.0-py3-none-any.whl.metadata (19 kB)\n",
            "Requirement already satisfied: filelock in /usr/local/lib/python3.11/dist-packages (from datasets) (3.17.0)\n",
            "Requirement already satisfied: numpy>=1.17 in /usr/local/lib/python3.11/dist-packages (from datasets) (1.26.4)\n",
            "Requirement already satisfied: pyarrow>=15.0.0 in /usr/local/lib/python3.11/dist-packages (from datasets) (17.0.0)\n",
            "Collecting dill<0.3.9,>=0.3.0 (from datasets)\n",
            "  Downloading dill-0.3.8-py3-none-any.whl.metadata (10 kB)\n",
            "Requirement already satisfied: pandas in /usr/local/lib/python3.11/dist-packages (from datasets) (2.2.2)\n",
            "Requirement already satisfied: requests>=2.32.2 in /usr/local/lib/python3.11/dist-packages (from datasets) (2.32.3)\n",
            "Requirement already satisfied: tqdm>=4.66.3 in /usr/local/lib/python3.11/dist-packages (from datasets) (4.67.1)\n",
            "Collecting xxhash (from datasets)\n",
            "  Downloading xxhash-3.5.0-cp311-cp311-manylinux_2_17_x86_64.manylinux2014_x86_64.whl.metadata (12 kB)\n",
            "Collecting multiprocess<0.70.17 (from datasets)\n",
            "  Downloading multiprocess-0.70.16-py311-none-any.whl.metadata (7.2 kB)\n",
            "Requirement already satisfied: fsspec<=2024.12.0,>=2023.1.0 in /usr/local/lib/python3.11/dist-packages (from fsspec[http]<=2024.12.0,>=2023.1.0->datasets) (2024.10.0)\n",
            "Requirement already satisfied: aiohttp in /usr/local/lib/python3.11/dist-packages (from datasets) (3.11.12)\n",
            "Requirement already satisfied: huggingface-hub>=0.24.0 in /usr/local/lib/python3.11/dist-packages (from datasets) (0.28.1)\n",
            "Requirement already satisfied: packaging in /usr/local/lib/python3.11/dist-packages (from datasets) (24.2)\n",
            "Requirement already satisfied: pyyaml>=5.1 in /usr/local/lib/python3.11/dist-packages (from datasets) (6.0.2)\n",
            "Requirement already satisfied: aiohappyeyeballs>=2.3.0 in /usr/local/lib/python3.11/dist-packages (from aiohttp->datasets) (2.4.6)\n",
            "Requirement already satisfied: aiosignal>=1.1.2 in /usr/local/lib/python3.11/dist-packages (from aiohttp->datasets) (1.3.2)\n",
            "Requirement already satisfied: attrs>=17.3.0 in /usr/local/lib/python3.11/dist-packages (from aiohttp->datasets) (25.1.0)\n",
            "Requirement already satisfied: frozenlist>=1.1.1 in /usr/local/lib/python3.11/dist-packages (from aiohttp->datasets) (1.5.0)\n",
            "Requirement already satisfied: multidict<7.0,>=4.5 in /usr/local/lib/python3.11/dist-packages (from aiohttp->datasets) (6.1.0)\n",
            "Requirement already satisfied: propcache>=0.2.0 in /usr/local/lib/python3.11/dist-packages (from aiohttp->datasets) (0.2.1)\n",
            "Requirement already satisfied: yarl<2.0,>=1.17.0 in /usr/local/lib/python3.11/dist-packages (from aiohttp->datasets) (1.18.3)\n",
            "Requirement already satisfied: typing-extensions>=3.7.4.3 in /usr/local/lib/python3.11/dist-packages (from huggingface-hub>=0.24.0->datasets) (4.12.2)\n",
            "Requirement already satisfied: charset-normalizer<4,>=2 in /usr/local/lib/python3.11/dist-packages (from requests>=2.32.2->datasets) (3.4.1)\n",
            "Requirement already satisfied: idna<4,>=2.5 in /usr/local/lib/python3.11/dist-packages (from requests>=2.32.2->datasets) (3.10)\n",
            "Requirement already satisfied: urllib3<3,>=1.21.1 in /usr/local/lib/python3.11/dist-packages (from requests>=2.32.2->datasets) (2.3.0)\n",
            "Requirement already satisfied: certifi>=2017.4.17 in /usr/local/lib/python3.11/dist-packages (from requests>=2.32.2->datasets) (2025.1.31)\n",
            "Requirement already satisfied: python-dateutil>=2.8.2 in /usr/local/lib/python3.11/dist-packages (from pandas->datasets) (2.8.2)\n",
            "Requirement already satisfied: pytz>=2020.1 in /usr/local/lib/python3.11/dist-packages (from pandas->datasets) (2025.1)\n",
            "Requirement already satisfied: tzdata>=2022.7 in /usr/local/lib/python3.11/dist-packages (from pandas->datasets) (2025.1)\n",
            "Requirement already satisfied: six>=1.5 in /usr/local/lib/python3.11/dist-packages (from python-dateutil>=2.8.2->pandas->datasets) (1.17.0)\n",
            "Downloading datasets-3.3.0-py3-none-any.whl (484 kB)\n",
            "\u001b[2K   \u001b[90m━━━━━━━━━━━━━━━━━━━━━━━━━━━━━━━━━━━━━━━━\u001b[0m \u001b[32m484.9/484.9 kB\u001b[0m \u001b[31m15.0 MB/s\u001b[0m eta \u001b[36m0:00:00\u001b[0m\n",
            "\u001b[?25hDownloading dill-0.3.8-py3-none-any.whl (116 kB)\n",
            "\u001b[2K   \u001b[90m━━━━━━━━━━━━━━━━━━━━━━━━━━━━━━━━━━━━━━━━\u001b[0m \u001b[32m116.3/116.3 kB\u001b[0m \u001b[31m9.5 MB/s\u001b[0m eta \u001b[36m0:00:00\u001b[0m\n",
            "\u001b[?25hDownloading multiprocess-0.70.16-py311-none-any.whl (143 kB)\n",
            "\u001b[2K   \u001b[90m━━━━━━━━━━━━━━━━━━━━━━━━━━━━━━━━━━━━━━━━\u001b[0m \u001b[32m143.5/143.5 kB\u001b[0m \u001b[31m8.2 MB/s\u001b[0m eta \u001b[36m0:00:00\u001b[0m\n",
            "\u001b[?25hDownloading xxhash-3.5.0-cp311-cp311-manylinux_2_17_x86_64.manylinux2014_x86_64.whl (194 kB)\n",
            "\u001b[2K   \u001b[90m━━━━━━━━━━━━━━━━━━━━━━━━━━━━━━━━━━━━━━━━\u001b[0m \u001b[32m194.8/194.8 kB\u001b[0m \u001b[31m15.5 MB/s\u001b[0m eta \u001b[36m0:00:00\u001b[0m\n",
            "\u001b[?25hInstalling collected packages: xxhash, dill, multiprocess, datasets\n",
            "Successfully installed datasets-3.3.0 dill-0.3.8 multiprocess-0.70.16 xxhash-3.5.0\n"
          ]
        }
      ]
    },
    {
      "cell_type": "code",
      "source": [
        "from datasets import load_dataset\n",
        "\n",
        "ds = load_dataset(\"naharte/korean_english\")"
      ],
      "metadata": {
        "colab": {
          "base_uri": "https://localhost:8080/",
          "height": 286,
          "referenced_widgets": [
            "a7ca36ff58284ed59321aee4a715da4f",
            "28dbf5e4672343ddbda4498bfdbe87ae",
            "6bc90511c1b94eff82bfe392e104ccaf",
            "8e304555548e47f8a2477cb224c9289e",
            "12e2eccedf9e49efa270f8464b9e579f",
            "18ca6b122bbc4dc19b6e33a81d04043d",
            "a1b5f0f36026461eb27ba765aef28d86",
            "e00eec248ba142909d0e119798880825",
            "74bfedbf49a94d54aecbe035bb41157a",
            "44e21b2756d14fc6b27396ea592cbabb",
            "8160476388db4a82b137f177e9397f01",
            "3ab72de540d34cc5b1981eb83df13e78",
            "94cecb36fb36428382e981c406ebf71c",
            "bd5729f6e1b6442380cd4991a87a2cc2",
            "f98b172bf16f434f982a95d9632afdf4",
            "f2f48af27ebb46a5b085242661e0f817",
            "c383df0e0f3744649df90668a81c1f80",
            "793533d43d524e28bd02f30b5555ac64",
            "516567aa0bbc46b9ac1ce54e7f3de141",
            "a49e2e77c640473db6aca215e8d7ea4a",
            "9a35ad72668a4abfb55d15f81b13f754",
            "8db477100ec34d03a58b5d1261fe4106",
            "b43ed173dfb943af83309750ac4555ae",
            "c4f2fd5c1b344ce8bf6f460011a58c45",
            "6bd7671f39564a57be4f8d992c7d10fb",
            "d453b0ed8ad041fc88f32206076ac5bd",
            "185d340d316e45b79b5ccaa2b9663556",
            "e1a10e63690e40c7b9cbe81139abf3c7",
            "aea9f2b5a2ae429ab92f3d3de3587794",
            "3f883a05e2254366a731170837495918",
            "a42e36163cc04275b786f9aa1f1ed211",
            "9f9f767d8bc14e3dbfa6e409a5a19392",
            "25fe309eb4214d8184c8f492458808c5",
            "f5c9da68e033448ca07a2c86a5920718",
            "1a648d0ce1444e859d023b1afd9994d0",
            "f762685b2c8c4f9db8c959dd09dccebf",
            "1226dce325d9405cbdd47d28062bb46a",
            "43a39ee8884b4c87a25ad35663301e09",
            "e70bbd56e5c14c6a8062cc24c3c6916e",
            "4990b8129d894c37b560b09af1e1fbf4",
            "c23738c1b33c4373a9137bdc35ecb4b0",
            "4c3a4b29249c44789e0123b8453fe93a",
            "57eb93a014f3468885234b210acb65a2",
            "6ed6e034f7344794993d35f1acbc28a4",
            "2c732119c06648c78f9f793643295f84",
            "81141288351046d3b98777406c511427",
            "4c771c87f9824ffab8ae221c38581384",
            "87ade189a350467a8e085ba9736b3910",
            "0bff62922a1d4021953a5c04bb477c5f",
            "941f0edb82b847929b14edd472d5e22e",
            "8c735665cecc4b93ad0839884df064eb",
            "d846969fd99747b98fb2558a169d5294",
            "441e3db520c0440dbd25098bccbf9c4d",
            "3f6553500ecf470688037c8287e726d4",
            "1241b951fcd8457a94b69c1f7d67f87a"
          ]
        },
        "id": "8aVDD2olpfVs",
        "outputId": "aaff895a-c2c2-4abd-b1fc-d4c27c4a6f4c"
      },
      "execution_count": null,
      "outputs": [
        {
          "output_type": "stream",
          "name": "stderr",
          "text": [
            "/usr/local/lib/python3.11/dist-packages/huggingface_hub/utils/_auth.py:94: UserWarning: \n",
            "The secret `HF_TOKEN` does not exist in your Colab secrets.\n",
            "To authenticate with the Hugging Face Hub, create a token in your settings tab (https://huggingface.co/settings/tokens), set it as secret in your Google Colab and restart your session.\n",
            "You will be able to reuse this secret in all of your notebooks.\n",
            "Please note that authentication is recommended but still optional to access public models or datasets.\n",
            "  warnings.warn(\n"
          ]
        },
        {
          "output_type": "display_data",
          "data": {
            "text/plain": [
              "README.md:   0%|          | 0.00/431 [00:00<?, ?B/s]"
            ],
            "application/vnd.jupyter.widget-view+json": {
              "version_major": 2,
              "version_minor": 0,
              "model_id": "a7ca36ff58284ed59321aee4a715da4f"
            }
          },
          "metadata": {}
        },
        {
          "output_type": "display_data",
          "data": {
            "text/plain": [
              "train-00000-of-00001.parquet:   0%|          | 0.00/244M [00:00<?, ?B/s]"
            ],
            "application/vnd.jupyter.widget-view+json": {
              "version_major": 2,
              "version_minor": 0,
              "model_id": "3ab72de540d34cc5b1981eb83df13e78"
            }
          },
          "metadata": {}
        },
        {
          "output_type": "display_data",
          "data": {
            "text/plain": [
              "test-00000-of-00001.parquet:   0%|          | 0.00/60.0M [00:00<?, ?B/s]"
            ],
            "application/vnd.jupyter.widget-view+json": {
              "version_major": 2,
              "version_minor": 0,
              "model_id": "b43ed173dfb943af83309750ac4555ae"
            }
          },
          "metadata": {}
        },
        {
          "output_type": "display_data",
          "data": {
            "text/plain": [
              "Generating train split:   0%|          | 0/1966 [00:00<?, ? examples/s]"
            ],
            "application/vnd.jupyter.widget-view+json": {
              "version_major": 2,
              "version_minor": 0,
              "model_id": "f5c9da68e033448ca07a2c86a5920718"
            }
          },
          "metadata": {}
        },
        {
          "output_type": "display_data",
          "data": {
            "text/plain": [
              "Generating test split:   0%|          | 0/450 [00:00<?, ? examples/s]"
            ],
            "application/vnd.jupyter.widget-view+json": {
              "version_major": 2,
              "version_minor": 0,
              "model_id": "2c732119c06648c78f9f793643295f84"
            }
          },
          "metadata": {}
        }
      ]
    },
    {
      "cell_type": "code",
      "source": [
        "print(ds) #check the structure of the datasets"
      ],
      "metadata": {
        "colab": {
          "base_uri": "https://localhost:8080/"
        },
        "id": "fs9xsGCJptnt",
        "outputId": "8f09704d-3855-4c8a-d547-b06623e7144c"
      },
      "execution_count": null,
      "outputs": [
        {
          "output_type": "stream",
          "name": "stdout",
          "text": [
            "DatasetDict({\n",
            "    train: Dataset({\n",
            "        features: ['audio', 'transcription'],\n",
            "        num_rows: 1966\n",
            "    })\n",
            "    test: Dataset({\n",
            "        features: ['audio', 'transcription'],\n",
            "        num_rows: 450\n",
            "    })\n",
            "})\n"
          ]
        }
      ]
    },
    {
      "cell_type": "code",
      "source": [
        "sample = ds[\"train\"][0]\n",
        "print(\"Sample keys:\", sample.keys())\n",
        "print(\"Transcription:\", sample[\"transcription\"])"
      ],
      "metadata": {
        "colab": {
          "base_uri": "https://localhost:8080/"
        },
        "id": "poNsbaPcp5_a",
        "outputId": "48888278-cef8-4c57-96c0-45e55c5106ec"
      },
      "execution_count": null,
      "outputs": [
        {
          "output_type": "stream",
          "name": "stdout",
          "text": [
            "Sample keys: dict_keys(['audio', 'transcription'])\n",
            "Transcription: oh my well at least ive aside for a rainy day\n"
          ]
        }
      ]
    },
    {
      "cell_type": "code",
      "source": [
        "sample = ds[\"test\"][1]\n",
        "print(\"Sample keys:\", sample.keys())\n",
        "print(\"Transcription:\", sample[\"transcription\"])"
      ],
      "metadata": {
        "colab": {
          "base_uri": "https://localhost:8080/"
        },
        "id": "BQdF9siNs0pz",
        "outputId": "a81f12ff-e7ab-4b15-93f0-a0a4cfca63b0"
      },
      "execution_count": null,
      "outputs": [
        {
          "output_type": "stream",
          "name": "stdout",
          "text": [
            "Sample keys: dict_keys(['audio', 'transcription'])\n",
            "Transcription: we all moved to tears by the moving story\n"
          ]
        }
      ]
    },
    {
      "cell_type": "code",
      "source": [
        "# print(ds[\"train\"][0][\"transcription\"])\n",
        "# print(phrase_to_phonetics(ds[\"train\"][0][\"transcription\"]))\n",
        "AA_female=[]\n",
        "for i in range(100):\n",
        "  #print(ds[\"train\"][i][\"transcription\"]\n",
        "  trans_phoneme=phrase_to_phonetics(ds[\"train\"][i][\"transcription\"])\n",
        "  if \"AA\" in trans_phoneme:\n",
        "    AA_female.append(i)\n",
        "    print(ds[\"train\"][i][\"transcription\"])\n",
        "    print(trans_phoneme)\n",
        "    if len(AA_female)==10:\n",
        "      break\n",
        "print(\"index of the transcriptions contain AA\",AA_female)\n"
      ],
      "metadata": {
        "colab": {
          "base_uri": "https://localhost:8080/"
        },
        "id": "I8IcqLgJs-rb",
        "outputId": "02ac7a66-1144-47de-926d-5c8dd8e9ec48"
      },
      "execution_count": null,
      "outputs": [
        {
          "output_type": "stream",
          "name": "stdout",
          "text": [
            "a lot of the politics is about how to make sure that well address that\n",
            "AH0   L AA1 T   AH1 V   DH AH0   P AA1 L AH0 T IH2 K S   IH1 Z   AH0 B AW1 T   HH AW1   T UW1   M EY1 K   SH UH1 R   DH AE1 T   W EH1 L   AE1 D R EH2 S   DH AE1 T\n",
            "i was talking to him one second and then the\n",
            "AY1   W AA1 Z   T AO1 K IH0 NG   T UW1   HH IH1 M   W AH1 N   S EH1 K AH0 N D   AH0 N D   DH EH1 N   DH AH0\n",
            "im not mad at you im mad at me\n",
            "IH1 M   N AA1 T   M AE1 D   AE1 T   Y UW1   IH1 M   M AE1 D   AE1 T   M IY1\n",
            "youre dark on the inside and im dark on the outside\n",
            "youre   D AA1 R K   AA1 N   DH AH0   IH0 N S AY1 D   AH0 N D   IH1 M   D AA1 R K   AA1 N   DH AH0   AW1 T S AY1 D\n",
            "he got a loan from the bank at the lowest interest rate\n",
            "HH IY1   G AA1 T   AH0   L OW1 N   F R AH1 M   DH AH0   B AE1 NG K   AE1 T   DH AH0   L OW1 AH0 S T   IH1 N T R AH0 S T   R EY1 T\n",
            "without question tom is an honest boy\n",
            "W IH0 TH AW1 T   K W EH1 S CH AH0 N   T AA1 M   IH1 Z   AE1 N   AA1 N AH0 S T   B OY1\n",
            "i think you should back me up on this john\n",
            "AY1   TH IH1 NG K   Y UW1   SH UH1 D   B AE1 K   M IY1   AH1 P   AA1 N   DH IH1 S   JH AA1 N\n",
            "no she bought them in the u s\n",
            "N OW1   SH IY1   B AA1 T   DH EH1 M   IH0 N   DH AH0   Y UW1   EH1 S\n",
            "you know id watch it if i were you colonel\n",
            "Y UW1   N OW1   IH1 D   W AA1 CH   IH1 T   IH1 F   AY1   W ER0   Y UW1   K ER1 N AH0 L\n",
            "with so much going on off the pitch its easy to lose track of time\n",
            "W IH1 DH   S OW1   M AH1 CH   G OW1 IH0 NG   AA1 N   AO1 F   DH AH0   P IH1 CH   IH1 T S   IY1 Z IY0   T UW1   L UW1 Z   T R AE1 K   AH1 V   T AY1 M\n",
            "index of the transcriptions contain AA [1, 2, 4, 6, 7, 8, 10, 13, 14, 15]\n"
          ]
        }
      ]
    },
    {
      "cell_type": "code",
      "source": [
        "AA_male = []\n",
        "for i in range(100):\n",
        "  trans_phoneme=phrase_to_phonetics(ds[\"test\"][i][\"transcription\"])\n",
        "  if \"AA\" in trans_phoneme:\n",
        "    AA_male.append(i)\n",
        "    print(ds[\"test\"][i][\"transcription\"])\n",
        "    print(trans_phoneme)\n",
        "    if len(AA_male)==10:\n",
        "      break\n",
        "print(\"index of the transcriptions contain AA\",AA_male)"
      ],
      "metadata": {
        "colab": {
          "base_uri": "https://localhost:8080/"
        },
        "id": "QF0q8s3LympT",
        "outputId": "256d8086-bfa1-475e-acab-e4f0965bbfb7"
      },
      "execution_count": null,
      "outputs": [
        {
          "output_type": "stream",
          "name": "stdout",
          "text": [
            "there were several discs on the table\n",
            "DH EH1 R   W ER0   S EH1 V R AH0 L   D IH1 S K S   AA1 N   DH AH0   T EY1 B AH0 L\n",
            "there is a volcano almost as big as new mexico\n",
            "DH EH1 R   IH1 Z   AH0   V AA0 L K EY1 N OW0   AO1 L M OW2 S T   AE1 Z   B IH1 G   AE1 Z   N UW1   M EH1 K S AH0 K OW2\n",
            "i will not be stubborn still can deal with time\n",
            "AY1   W IH1 L   N AA1 T   B IY1   S T AH1 B ER0 N   S T IH1 L   K AE1 N   D IY1 L   W IH1 DH   T AY1 M\n",
            "mary was ill but the doctor says that she has improved\n",
            "M EH1 R IY0   W AA1 Z   IH1 L   B AH1 T   DH AH0   D AA1 K T ER0   S EH1 Z   DH AE1 T   SH IY1   HH AE1 Z   IH0 M P R UW1 V D\n",
            "they would get credit for having pushed us this far\n",
            "DH EY1   W UH1 D   G EH1 T   K R EH1 D AH0 T   F AO1 R   HH AE1 V IH0 NG   P UH1 SH T   AH1 S   DH IH1 S   F AA1 R\n",
            "a copy of the notice of appeal is enclosed\n",
            "AH0   K AA1 P IY0   AH1 V   DH AH0   N OW1 T AH0 S   AH1 V   AH0 P IY1 L   IH1 Z   EH0 N K L OW1 Z D\n",
            "winters and springs are very wet in this part of the world\n",
            "W IH1 N T ER0 Z   AH0 N D   S P R IH1 NG Z   AA1 R   V EH1 R IY0   W EH1 T   IH0 N   DH IH1 S   P AA1 R T   AH1 V   DH AH0   W ER1 L D\n",
            "the money box had been forced open\n",
            "DH AH0   M AH1 N IY0   B AA1 K S   HH AE1 D   B IH1 N   F AO1 R S T   OW1 P AH0 N\n",
            "oh no i was busy doing my own charts\n",
            "OW1   N OW1   AY1   W AA1 Z   B IH1 Z IY0   D UW1 IH0 NG   M AY1   OW1 N   CH AA1 R T S\n",
            "but is it made clear to patients what they are and are not entitled to\n",
            "B AH1 T   IH1 Z   IH1 T   M EY1 D   K L IH1 R   T UW1   P EY1 SH AH0 N T S   W AH1 T   DH EY1   AA1 R   AH0 N D   AA1 R   N AA1 T   EH0 N T AY1 T AH0 L D   T UW1\n",
            "index of the transcriptions contain AA [0, 2, 4, 6, 8, 9, 13, 18, 20, 22]\n"
          ]
        }
      ]
    },
    {
      "cell_type": "code",
      "source": [
        "IY_female=[]\n",
        "for i in range(100):\n",
        "  #print(ds[\"train\"][i][\"transcription\"]\n",
        "  trans_phoneme=phrase_to_phonetics(ds[\"train\"][i][\"transcription\"])\n",
        "  if \"IY\" in trans_phoneme:\n",
        "    IY_female.append(i)\n",
        "    print(ds[\"train\"][i][\"transcription\"])\n",
        "    print(trans_phoneme)\n",
        "    if len(IY_female)==10:\n",
        "      break\n",
        "print(\"index of the transcriptions contain IY\",IY_female)\n"
      ],
      "metadata": {
        "colab": {
          "base_uri": "https://localhost:8080/"
        },
        "id": "yusH4hQ33A2E",
        "outputId": "cc12e3aa-f180-4f40-a0e8-8c745cb7d2cd"
      },
      "execution_count": null,
      "outputs": [
        {
          "output_type": "stream",
          "name": "stdout",
          "text": [
            "oh my well at least ive aside for a rainy day\n",
            "OW1   M AY1   W EH1 L   AE1 T   L IY1 S T   ive   AH0 S AY1 D   F AO1 R   AH0   R EY1 N IY0   D EY1\n",
            "im not mad at you im mad at me\n",
            "IH1 M   N AA1 T   M AE1 D   AE1 T   Y UW1   IH1 M   M AE1 D   AE1 T   M IY1\n",
            "he did tell me that he would join us in the work\n",
            "HH IY1   D IH1 D   T EH1 L   M IY1   DH AE1 T   HH IY1   W UH1 D   JH OY1 N   AH1 S   IH0 N   DH AH0   W ER1 K\n",
            "he got a loan from the bank at the lowest interest rate\n",
            "HH IY1   G AA1 T   AH0   L OW1 N   F R AH1 M   DH AH0   B AE1 NG K   AE1 T   DH AH0   L OW1 AH0 S T   IH1 N T R AH0 S T   R EY1 T\n",
            "i think you should back me up on this john\n",
            "AY1   TH IH1 NG K   Y UW1   SH UH1 D   B AE1 K   M IY1   AH1 P   AA1 N   DH IH1 S   JH AA1 N\n",
            "but really who is going to do just that\n",
            "B AH1 T   R IH1 L IY0   HH UW1   IH1 Z   G OW1 IH0 NG   T UW1   D UW1   JH AH1 S T   DH AE1 T\n",
            "no she bought them in the u s\n",
            "N OW1   SH IY1   B AA1 T   DH EH1 M   IH0 N   DH AH0   Y UW1   EH1 S\n",
            "with so much going on off the pitch its easy to lose track of time\n",
            "W IH1 DH   S OW1   M AH1 CH   G OW1 IH0 NG   AA1 N   AO1 F   DH AH0   P IH1 CH   IH1 T S   IY1 Z IY0   T UW1   L UW1 Z   T R AE1 K   AH1 V   T AY1 M\n",
            "all these men are alike in the world\n",
            "AO1 L   DH IY1 Z   M EH1 N   AA1 R   AH0 L AY1 K   IH0 N   DH AH0   W ER1 L D\n",
            "she went further into the room drawn by the warmth of the fire\n",
            "SH IY1   W EH1 N T   F ER1 DH ER0   IH0 N T UW1   DH AH0   R UW1 M   D R AO1 N   B AY1   DH AH0   W AO1 R M TH   AH1 V   DH AH0   F AY1 ER0\n",
            "index of the transcriptions contain IY [0, 4, 5, 7, 10, 12, 13, 15, 17, 19]\n"
          ]
        }
      ]
    },
    {
      "cell_type": "code",
      "source": [
        "IY_male = []\n",
        "for i in range(100):\n",
        "  trans_phoneme=phrase_to_phonetics(ds[\"test\"][i][\"transcription\"])\n",
        "  if \"IY\" in trans_phoneme:\n",
        "    IY_male.append(i)\n",
        "    print(ds[\"test\"][i][\"transcription\"])\n",
        "    print(trans_phoneme)\n",
        "    if len(IY_male)==10:\n",
        "      break\n",
        "print(\"index of the transcriptions contain IY\",IY_male)"
      ],
      "metadata": {
        "colab": {
          "base_uri": "https://localhost:8080/"
        },
        "id": "nufM8VDZ9CYF",
        "outputId": "818492a4-bbc8-466e-f0ea-72271ded97cd"
      },
      "execution_count": null,
      "outputs": [
        {
          "output_type": "stream",
          "name": "stdout",
          "text": [
            "we all moved to tears by the moving story\n",
            "W IY1   AO1 L   M UW1 V D   T UW1   T EH1 R Z   B AY1   DH AH0   M UW1 V IH0 NG   S T AO1 R IY0\n",
            "i will not be stubborn still can deal with time\n",
            "AY1   W IH1 L   N AA1 T   B IY1   S T AH1 B ER0 N   S T IH1 L   K AE1 N   D IY1 L   W IH1 DH   T AY1 M\n",
            "he made a cross over his head\n",
            "HH IY1   M EY1 D   AH0   K R AO1 S   OW1 V ER0   HH IH1 Z   HH EH1 D\n",
            "mary was ill but the doctor says that she has improved\n",
            "M EH1 R IY0   W AA1 Z   IH1 L   B AH1 T   DH AH0   D AA1 K T ER0   S EH1 Z   DH AE1 T   SH IY1   HH AE1 Z   IH0 M P R UW1 V D\n",
            "hes never done anything wrong in his entire life\n",
            "hes   N EH1 V ER0   D AH1 N   EH1 N IY0 TH IH2 NG   R AO1 NG   IH0 N   HH IH1 Z   IH0 N T AY1 ER0   L AY1 F\n",
            "a copy of the notice of appeal is enclosed\n",
            "AH0   K AA1 P IY0   AH1 V   DH AH0   N OW1 T AH0 S   AH1 V   AH0 P IY1 L   IH1 Z   EH0 N K L OW1 Z D\n",
            "think of it in terms of diabetes for instance\n",
            "TH IH1 NG K   AH1 V   IH1 T   IH0 N   T ER1 M Z   AH1 V   D AY2 AH0 B IY1 T IY0 Z   F AO1 R   IH1 N S T AH0 N S\n",
            "thank you i need it more than you do\n",
            "TH AE1 NG K   Y UW1   AY1   N IY1 D   IH1 T   M AO1 R   DH AE1 N   Y UW1   D UW1\n",
            "i mean taking care of a baby is easier\n",
            "AY1   M IY1 N   T EY1 K IH0 NG   K EH1 R   AH1 V   AH0   B EY1 B IY0   IH1 Z   IY1 Z IY0 ER0\n",
            "winters and springs are very wet in this part of the world\n",
            "W IH1 N T ER0 Z   AH0 N D   S P R IH1 NG Z   AA1 R   V EH1 R IY0   W EH1 T   IH0 N   DH IH1 S   P AA1 R T   AH1 V   DH AH0   W ER1 L D\n",
            "index of the transcriptions contain IY [1, 4, 5, 6, 7, 9, 10, 11, 12, 13]\n"
          ]
        }
      ]
    },
    {
      "cell_type": "code",
      "source": [
        "UW_female=[]\n",
        "for i in range(100):\n",
        "  trans_phoneme=phrase_to_phonetics(ds[\"train\"][i][\"transcription\"])\n",
        "  if \"UW\" in trans_phoneme:\n",
        "    UW_female.append(i)\n",
        "    print(ds[\"train\"][i][\"transcription\"])\n",
        "    print(trans_phoneme)\n",
        "    if len(UW_female)==10:\n",
        "      break\n",
        "print(\"index of the transcriptions contain UW\",UW_female)"
      ],
      "metadata": {
        "colab": {
          "base_uri": "https://localhost:8080/"
        },
        "id": "uZnA-q_K9g-1",
        "outputId": "d7e49a93-0af0-49ca-af60-fec7038b1a96"
      },
      "execution_count": null,
      "outputs": [
        {
          "output_type": "stream",
          "name": "stdout",
          "text": [
            "a lot of the politics is about how to make sure that well address that\n",
            "AH0   L AA1 T   AH1 V   DH AH0   P AA1 L AH0 T IH2 K S   IH1 Z   AH0 B AW1 T   HH AW1   T UW1   M EY1 K   SH UH1 R   DH AE1 T   W EH1 L   AE1 D R EH2 S   DH AE1 T\n",
            "i was talking to him one second and then the\n",
            "AY1   W AA1 Z   T AO1 K IH0 NG   T UW1   HH IH1 M   W AH1 N   S EH1 K AH0 N D   AH0 N D   DH EH1 N   DH AH0\n",
            "a woman came to the window with the ball and shouted at the boy\n",
            "AH0   W UH1 M AH0 N   K EY1 M   T UW1   DH AH0   W IH1 N D OW0   W IH1 DH   DH AH0   B AO1 L   AH0 N D   SH AW1 T AH0 D   AE1 T   DH AH0   B OY1\n",
            "im not mad at you im mad at me\n",
            "IH1 M   N AA1 T   M AE1 D   AE1 T   Y UW1   IH1 M   M AE1 D   AE1 T   M IY1\n",
            "you can go and buy some of the great tunes\n",
            "Y UW1   K AE1 N   G OW1   AH0 N D   B AY1   S AH1 M   AH1 V   DH AH0   G R EY1 T   T UW1 N Z\n",
            "i think you should back me up on this john\n",
            "AY1   TH IH1 NG K   Y UW1   SH UH1 D   B AE1 K   M IY1   AH1 P   AA1 N   DH IH1 S   JH AA1 N\n",
            "for now you may have to pay for it yourself\n",
            "F AO1 R   N AW1   Y UW1   M EY1   HH AE1 V   T UW1   P EY1   F AO1 R   IH1 T   Y ER0 S EH1 L F\n",
            "but really who is going to do just that\n",
            "B AH1 T   R IH1 L IY0   HH UW1   IH1 Z   G OW1 IH0 NG   T UW1   D UW1   JH AH1 S T   DH AE1 T\n",
            "no she bought them in the u s\n",
            "N OW1   SH IY1   B AA1 T   DH EH1 M   IH0 N   DH AH0   Y UW1   EH1 S\n",
            "you know id watch it if i were you colonel\n",
            "Y UW1   N OW1   IH1 D   W AA1 CH   IH1 T   IH1 F   AY1   W ER0   Y UW1   K ER1 N AH0 L\n",
            "index of the transcriptions contain UW [1, 2, 3, 4, 9, 10, 11, 12, 13, 14]\n"
          ]
        }
      ]
    },
    {
      "cell_type": "code",
      "source": [
        "UW_male = []\n",
        "for i in range(100):\n",
        "  trans_phoneme=phrase_to_phonetics(ds[\"test\"][i][\"transcription\"])\n",
        "  if \"UW\" in trans_phoneme:\n",
        "    UW_male.append(i)\n",
        "    print(ds[\"test\"][i][\"transcription\"])\n",
        "    print(trans_phoneme)\n",
        "    if len(UW_male)==10:\n",
        "      break\n",
        "print(\"index of the transcriptions contain UW\",UW_male)"
      ],
      "metadata": {
        "colab": {
          "base_uri": "https://localhost:8080/"
        },
        "id": "Sml1nR-F99GV",
        "outputId": "1588a693-dc0b-4e2e-a382-096f12cc62b9"
      },
      "execution_count": null,
      "outputs": [
        {
          "output_type": "stream",
          "name": "stdout",
          "text": [
            "we all moved to tears by the moving story\n",
            "W IY1   AO1 L   M UW1 V D   T UW1   T EH1 R Z   B AY1   DH AH0   M UW1 V IH0 NG   S T AO1 R IY0\n",
            "there is a volcano almost as big as new mexico\n",
            "DH EH1 R   IH1 Z   AH0   V AA0 L K EY1 N OW0   AO1 L M OW2 S T   AE1 Z   B IH1 G   AE1 Z   N UW1   M EH1 K S AH0 K OW2\n",
            "mary was ill but the doctor says that she has improved\n",
            "M EH1 R IY0   W AA1 Z   IH1 L   B AH1 T   DH AH0   D AA1 K T ER0   S EH1 Z   DH AE1 T   SH IY1   HH AE1 Z   IH0 M P R UW1 V D\n",
            "thank you i need it more than you do\n",
            "TH AE1 NG K   Y UW1   AY1   N IY1 D   IH1 T   M AO1 R   DH AE1 N   Y UW1   D UW1\n",
            "ill switch to covering the attack force\n",
            "IH1 L   S W IH1 CH   T UW1   K AH1 V ER0 IH0 NG   DH AH0   AH0 T AE1 K   F AO1 R S\n",
            "let me give you a good close look at this\n",
            "L EH1 T   M IY1   G IH1 V   Y UW1   AH0   G UH1 D   K L OW1 S   L UH1 K   AE1 T   DH IH1 S\n",
            "every decision that you ever made comes under scrutiny\n",
            "EH1 V ER0 IY0   D IH0 S IH1 ZH AH0 N   DH AE1 T   Y UW1   EH1 V ER0   M EY1 D   K AH1 M Z   AH1 N D ER0   S K R UW1 T AH0 N IY0\n",
            "so if you hate her maybe you kind of hate me too\n",
            "S OW1   IH1 F   Y UW1   HH EY1 T   HH ER0   M EY1 B IY0   Y UW1   K AY1 N D   AH1 V   HH EY1 T   M IY1   T UW1\n",
            "and the poor aunt fell into a coma\n",
            "AH0 N D   DH AH0   P UH1 R   AE1 N T   F EH1 L   IH0 N T UW1   AH0   K OW1 M AH0\n",
            "oh no i was busy doing my own charts\n",
            "OW1   N OW1   AY1   W AA1 Z   B IH1 Z IY0   D UW1 IH0 NG   M AY1   OW1 N   CH AA1 R T S\n",
            "index of the transcriptions contain UW [1, 2, 6, 11, 14, 15, 16, 17, 19, 20]\n"
          ]
        }
      ]
    },
    {
      "cell_type": "code",
      "source": [
        "AE_female=[]\n",
        "for i in range(100):\n",
        "  trans_phoneme=phrase_to_phonetics(ds[\"train\"][i][\"transcription\"])\n",
        "  if \"AE\" in trans_phoneme:\n",
        "    AE_female.append(i)\n",
        "    print(ds[\"train\"][i][\"transcription\"])\n",
        "    print(trans_phoneme)\n",
        "    if len(AE_female)==10:\n",
        "      break\n",
        "print(\"index of the transcriptions contain AE\",AE_female)"
      ],
      "metadata": {
        "colab": {
          "base_uri": "https://localhost:8080/"
        },
        "id": "Kv6DjW9Z-4ZO",
        "outputId": "3654bb99-070f-448a-c128-7c052ef15326"
      },
      "execution_count": null,
      "outputs": [
        {
          "output_type": "stream",
          "name": "stdout",
          "text": [
            "oh my well at least ive aside for a rainy day\n",
            "OW1   M AY1   W EH1 L   AE1 T   L IY1 S T   ive   AH0 S AY1 D   F AO1 R   AH0   R EY1 N IY0   D EY1\n",
            "a lot of the politics is about how to make sure that well address that\n",
            "AH0   L AA1 T   AH1 V   DH AH0   P AA1 L AH0 T IH2 K S   IH1 Z   AH0 B AW1 T   HH AW1   T UW1   M EY1 K   SH UH1 R   DH AE1 T   W EH1 L   AE1 D R EH2 S   DH AE1 T\n",
            "a woman came to the window with the ball and shouted at the boy\n",
            "AH0   W UH1 M AH0 N   K EY1 M   T UW1   DH AH0   W IH1 N D OW0   W IH1 DH   DH AH0   B AO1 L   AH0 N D   SH AW1 T AH0 D   AE1 T   DH AH0   B OY1\n",
            "im not mad at you im mad at me\n",
            "IH1 M   N AA1 T   M AE1 D   AE1 T   Y UW1   IH1 M   M AE1 D   AE1 T   M IY1\n",
            "he did tell me that he would join us in the work\n",
            "HH IY1   D IH1 D   T EH1 L   M IY1   DH AE1 T   HH IY1   W UH1 D   JH OY1 N   AH1 S   IH0 N   DH AH0   W ER1 K\n",
            "he got a loan from the bank at the lowest interest rate\n",
            "HH IY1   G AA1 T   AH0   L OW1 N   F R AH1 M   DH AH0   B AE1 NG K   AE1 T   DH AH0   L OW1 AH0 S T   IH1 N T R AH0 S T   R EY1 T\n",
            "without question tom is an honest boy\n",
            "W IH0 TH AW1 T   K W EH1 S CH AH0 N   T AA1 M   IH1 Z   AE1 N   AA1 N AH0 S T   B OY1\n",
            "you can go and buy some of the great tunes\n",
            "Y UW1   K AE1 N   G OW1   AH0 N D   B AY1   S AH1 M   AH1 V   DH AH0   G R EY1 T   T UW1 N Z\n",
            "i think you should back me up on this john\n",
            "AY1   TH IH1 NG K   Y UW1   SH UH1 D   B AE1 K   M IY1   AH1 P   AA1 N   DH IH1 S   JH AA1 N\n",
            "for now you may have to pay for it yourself\n",
            "F AO1 R   N AW1   Y UW1   M EY1   HH AE1 V   T UW1   P EY1   F AO1 R   IH1 T   Y ER0 S EH1 L F\n",
            "index of the transcriptions contain AE [0, 1, 3, 4, 5, 7, 8, 9, 10, 11]\n"
          ]
        }
      ]
    },
    {
      "cell_type": "code",
      "source": [
        "AE_male = []\n",
        "for i in range(100):\n",
        "  trans_phoneme=phrase_to_phonetics(ds[\"test\"][i][\"transcription\"])\n",
        "  if \"AE\" in trans_phoneme:\n",
        "    AE_male.append(i)\n",
        "    print(ds[\"test\"][i][\"transcription\"])\n",
        "    print(trans_phoneme)\n",
        "    if len(AE_male)==10:\n",
        "      break\n",
        "print(\"index of the transcriptions contain AE\",AE_male)"
      ],
      "metadata": {
        "colab": {
          "base_uri": "https://localhost:8080/"
        },
        "id": "YlRG-K28_HBd",
        "outputId": "39983cad-76d4-4b82-b57a-2ad7a6f35892"
      },
      "execution_count": null,
      "outputs": [
        {
          "output_type": "stream",
          "name": "stdout",
          "text": [
            "there is a volcano almost as big as new mexico\n",
            "DH EH1 R   IH1 Z   AH0   V AA0 L K EY1 N OW0   AO1 L M OW2 S T   AE1 Z   B IH1 G   AE1 Z   N UW1   M EH1 K S AH0 K OW2\n",
            "i have a rabbit it has long ears\n",
            "AY1   HH AE1 V   AH0   R AE1 B AH0 T   IH1 T   HH AE1 Z   L AO1 NG   IH1 R Z\n",
            "i will not be stubborn still can deal with time\n",
            "AY1   W IH1 L   N AA1 T   B IY1   S T AH1 B ER0 N   S T IH1 L   K AE1 N   D IY1 L   W IH1 DH   T AY1 M\n",
            "mary was ill but the doctor says that she has improved\n",
            "M EH1 R IY0   W AA1 Z   IH1 L   B AH1 T   DH AH0   D AA1 K T ER0   S EH1 Z   DH AE1 T   SH IY1   HH AE1 Z   IH0 M P R UW1 V D\n",
            "they would get credit for having pushed us this far\n",
            "DH EY1   W UH1 D   G EH1 T   K R EH1 D AH0 T   F AO1 R   HH AE1 V IH0 NG   P UH1 SH T   AH1 S   DH IH1 S   F AA1 R\n",
            "thank you i need it more than you do\n",
            "TH AE1 NG K   Y UW1   AY1   N IY1 D   IH1 T   M AO1 R   DH AE1 N   Y UW1   D UW1\n",
            "ill switch to covering the attack force\n",
            "IH1 L   S W IH1 CH   T UW1   K AH1 V ER0 IH0 NG   DH AH0   AH0 T AE1 K   F AO1 R S\n",
            "let me give you a good close look at this\n",
            "L EH1 T   M IY1   G IH1 V   Y UW1   AH0   G UH1 D   K L OW1 S   L UH1 K   AE1 T   DH IH1 S\n",
            "every decision that you ever made comes under scrutiny\n",
            "EH1 V ER0 IY0   D IH0 S IH1 ZH AH0 N   DH AE1 T   Y UW1   EH1 V ER0   M EY1 D   K AH1 M Z   AH1 N D ER0   S K R UW1 T AH0 N IY0\n",
            "the money box had been forced open\n",
            "DH AH0   M AH1 N IY0   B AA1 K S   HH AE1 D   B IH1 N   F AO1 R S T   OW1 P AH0 N\n",
            "index of the transcriptions contain AE [2, 3, 4, 6, 8, 11, 14, 15, 16, 18]\n"
          ]
        }
      ]
    }
  ]
}